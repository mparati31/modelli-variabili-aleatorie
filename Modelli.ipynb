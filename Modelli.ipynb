{
 "cells": [
  {
   "cell_type": "markdown",
   "id": "3a229633",
   "metadata": {},
   "source": [
    "# Modelli"
   ]
  },
  {
   "cell_type": "code",
   "execution_count": 1,
   "id": "ccd881d8",
   "metadata": {},
   "outputs": [],
   "source": [
    "import ipywidgets as widgets\n",
    "from src.models import *\n",
    "\n",
    "%matplotlib inline"
   ]
  },
  {
   "cell_type": "markdown",
   "id": "22bcf26e",
   "metadata": {},
   "source": [
    "## Table of Contents\n",
    "\n",
    "<ul>\n",
    "    <li><a href=\"#Modello-di-Bernoulli\">Modello di Bernoulli</a></li>\n",
    "    <li><a href=\"#Modello-binomiale\">Modello binomiale</a></li>\n",
    "    <li><a href=\"#Modello-uniforme-discreto\">Modello uniforme discreto</a></li>\n",
    "    <li><a href=\"#Modello-geometrico\">Modello geometrico</a></li>\n",
    "    <li><a href=\"#Modello-di-Poisson\">Modello di Poisson</a></li>\n",
    "    <li><a href=\"#Modello-ipergeometrico\">Modello ipergeometrico</a></li>\n",
    "    <li><a href=\"#Modello-uniforme-continuo\">Modello uniforme continuo</a></li>\n",
    "    <li><a href=\"#Modello-esponenziale\">Modello esponenziale</a></li>\n",
    "    <li><a href=\"#Modello-gaussiano\">Modello gaussiano</a></li>\n",
    "</ul> "
   ]
  },
  {
   "cell_type": "markdown",
   "id": "a7e44e4b",
   "metadata": {},
   "source": [
    "## Modello di Bernoulli\n",
    "\n",
    "$$X \\sim B(p)$$\n",
    "$$D_X = \\{0,1\\}$$\n",
    "\n",
    "La variabile $X$ assume valore 1 se l'esperimento ha avuto successo, 0 se è fallito.\n",
    "L'argomento $p$ indica la probabilità del successo dell'esperimento.\n",
    "\n",
    "**Funzione di massa di probabilità**\n",
    "$$p_X(x) = p^x(1-p)^{1-x}I_{\\{0,1\\}}(x)$$\n",
    "\n",
    "**Funzione di ripartizione**\n",
    "$$F_x(x) = \\begin{cases}0\\quad & x<0\n",
    "\\\\1-p\\quad & 0\\leq x<1\n",
    "\\\\1\\quad & 1\\leq x\\end{cases}$$\n",
    "\n",
    "**Valore atteso**\n",
    "$$E[X] = p$$\n",
    "\n",
    "**Varianza**\n",
    "$$\\operatorname{Var}(X) = p(1-p)$$"
   ]
  },
  {
   "cell_type": "code",
   "execution_count": 2,
   "id": "d43faa9f",
   "metadata": {
    "scrolled": false
   },
   "outputs": [
    {
     "data": {
      "application/vnd.jupyter.widget-view+json": {
       "model_id": "fe6221f0aaaa4596be34454047429b52",
       "version_major": 2,
       "version_minor": 0
      },
      "text/plain": [
       "interactive(children=(FloatSlider(value=0.5, description='$p$', max=1.0, step=0.05), Output()), _dom_classes=(…"
      ]
     },
     "metadata": {},
     "output_type": "display_data"
    }
   ],
   "source": [
    "_ = widgets.interact(plot_bern, p=widgets.FloatSlider(value=.5, min=0, max=1, step=.05, description='$p$'))"
   ]
  },
  {
   "cell_type": "markdown",
   "id": "b48a6dbc",
   "metadata": {},
   "source": [
    "## Modello binomiale\n",
    "\n",
    "$$X \\sim B(n, p)$$\n",
    "$$D_X = \\{0,\\dots,n\\}$$\n",
    "\n",
    "Questo modello consiste in $n$ ripetizioni indipendenti di un esperimento bernoulliano di parametro $p$. La variabile $X$ assume come valore il numero di successi ottenuti.\n",
    "\n",
    "Quando il parametro $n$ è molto alto, per il *TCL* questo modello può essere approssimato dal modello normale: data $X \\sim B(n, p)$, allora $X ~ \\dot{\\sim} ~ N(np, \\sqrt{np(1-p)})$, quindi effettuando la normalizzazione si ottiene $\\dfrac{X-np}{\\sqrt{np(1-p)}} ~ \\dot{\\sim} ~ N(0, 1)$.\n",
    "\n",
    "**Funzione di massa di probabilità**\n",
    "$$p_X(i) = \\displaystyle\\binom{n}{i} p^i(1-p)^{n-i}I_{\\{0,\\dots,n\\}}(x)$$\n",
    "\n",
    "Da notare che nel caso di tutti successi $p_X(i) = (1-p)^n$ mentre se si verificano solo fallimenti $p_X(i) = p^n$.\n",
    "\n",
    "**Funzione di ripartizione**\n",
    "$$F_x(x) = \\sum_{i=0}^{\\lfloor x\\rfloor}\\binom{n}{i} p^i (1-p)^{n-i}I_{[0,n]}(x)+I_{(n,+\\infty)}(x)$$\n",
    "\n",
    "**Valore atteso**\n",
    "$$E[X] = np$$\n",
    "\n",
    "**Varianza**\n",
    "$$\\operatorname{Var}(X) = np(1-p)$$"
   ]
  },
  {
   "cell_type": "code",
   "execution_count": 3,
   "id": "1e464a89",
   "metadata": {
    "scrolled": false
   },
   "outputs": [
    {
     "data": {
      "application/vnd.jupyter.widget-view+json": {
       "model_id": "2a188479703e4c84aff239cca3e84d08",
       "version_major": 2,
       "version_minor": 0
      },
      "text/plain": [
       "interactive(children=(IntSlider(value=15, description='$n$', max=20, min=1), FloatSlider(value=0.5, descriptio…"
      ]
     },
     "metadata": {},
     "output_type": "display_data"
    }
   ],
   "source": [
    "_ = widgets.interact(plot_binom,\n",
    "                     n=widgets.IntSlider(value=15, min=1, max=20, step=1, description='$n$'),\n",
    "                     p=widgets.FloatSlider(value=.5, min=0, max=1, step=.05, description='$p$'))"
   ]
  },
  {
   "cell_type": "markdown",
   "id": "4f240ced",
   "metadata": {},
   "source": [
    "## Modello uniforme discreto\n",
    "\n",
    "$$X \\sim U(n)$$\n",
    "$$D_X = \\{1,\\dots,n\\}$$\n",
    "\n",
    "La variabile $X$ assume il valore dell'esito di un esperimento composto da $n$ esiti equiprobabili, numerati da 1 a $n$.\n",
    "\n",
    "**Funzione di massa di probabilità**\n",
    "$$p_X(i) = \\dfrac{1}{n} I_{\\{1,\\dots,n\\}}(i)$$\n",
    "\n",
    "**Funzione di ripartizione**\n",
    "$$F_x(x) = \\dfrac{\\lfloor x\\rfloor}{n}\\cdot I_{[1,\\dots,n]}(x)+I_{(n,\\dots,+\\infty)}(x)$$\n",
    "\n",
    "**Valore atteso**\n",
    "$$E[X] = \\dfrac{n+1}{2}$$\n",
    "\n",
    "**Varianza**\n",
    "$$\\operatorname{Var}(X) = \\dfrac{n^2-1}{12}$$"
   ]
  },
  {
   "cell_type": "code",
   "execution_count": 4,
   "id": "6f44e06c",
   "metadata": {},
   "outputs": [
    {
     "data": {
      "application/vnd.jupyter.widget-view+json": {
       "model_id": "7cb499dd02d847a4bd47ab9208beb62d",
       "version_major": 2,
       "version_minor": 0
      },
      "text/plain": [
       "interactive(children=(IntSlider(value=10, description='$n$', max=20, min=1), Output()), _dom_classes=('widget-…"
      ]
     },
     "metadata": {},
     "output_type": "display_data"
    }
   ],
   "source": [
    "_ = widgets.interact(plot_unif_discr, n=widgets.IntSlider(value=10, min=1, max=20, step=1, description='$n$'))"
   ]
  },
  {
   "cell_type": "markdown",
   "id": "34c31492",
   "metadata": {},
   "source": [
    "## Modello geometrico\n",
    "\n",
    "$$X \\sim G(p)$$\n",
    "$$D_X = \\mathbb{N}$$\n",
    "\n",
    "Questo modello calcola il numero di esperimenti bernoulliani di parametro $p$ necessari per ottenere un successo. In altre parole, la variabile $X$ assume come valore il numero di insuccessi prima del primo successo.\n",
    "\n",
    "Una caratteristica di questo modello è che gode della proprietà di *assenza di memoria*, cioè sapere che $i$ esperimenti sono falliti non dà informazioni su quanti insuccessi mancano per ottenere il primo successo. Più formalmente, $P(X\\geq i+j ~ | ~ X \\geq i) = P(X\\geq j)$.\n",
    "\n",
    "**Funzione di massa di probabilità**\n",
    "$$p_X(i) = (1-p)^ip ~ I_\\mathbb{N} (i)$$\n",
    "\n",
    "**Funzione di ripartizione**\n",
    "$$F_x(x) = 1 - (1-p)^{\\lfloor x\\rfloor+1}$$\n",
    "\n",
    "**Valore atteso**\n",
    "$$E[X] = \\dfrac{1-p}{p}$$\n",
    "\n",
    "**Varianza**\n",
    "$$\\operatorname{Var}(X) = \\dfrac{1-p}{p^2}$$"
   ]
  },
  {
   "cell_type": "code",
   "execution_count": 5,
   "id": "c99ec836",
   "metadata": {
    "scrolled": false
   },
   "outputs": [
    {
     "data": {
      "application/vnd.jupyter.widget-view+json": {
       "model_id": "becf8a5552404d92b3a3b92796a08c84",
       "version_major": 2,
       "version_minor": 0
      },
      "text/plain": [
       "interactive(children=(FloatSlider(value=0.5, description='$p$', max=1.0, min=0.05, step=0.05), Output()), _dom…"
      ]
     },
     "metadata": {},
     "output_type": "display_data"
    }
   ],
   "source": [
    "_ = widgets.interact(plot_geom, p=widgets.FloatSlider(value=.5, min=.05, max=1, step=.05, description='$p$'))"
   ]
  },
  {
   "cell_type": "markdown",
   "id": "f4bca969",
   "metadata": {},
   "source": [
    "## Modello di Poisson\n",
    "\n",
    "$$X \\sim P(\\lambda), ~ \\lambda > 0$$\n",
    "$$D_X = \\mathbb{N}$$\n",
    "\n",
    "Questo modello esprime la probabilità che un certo numero di eventi si verificano successivamente ed indipendentemente in un intervallo di tempo, sapendo che mediamente in quell'intervallo se ne verificano $\\lambda$. La variabile $X$ assume come valore il numero di eventi che si verificano.\n",
    "\n",
    "Rappresenta anche un'approssimazione del modello binomiale nel caso in cui il prodotto dei suoi parametri è costante e la $n$ è molto grande (quindi la $p$ è molto piccola): $X \\sim B(n,p)$ con $\\lambda = np$.\n",
    "\n",
    "Questo modello gode della proprietà di *riproducibilità*: date $X_1, \\dots X_n$ variabili tali che $X_i \\sim P(\\lambda_i)$ e $Y = \\sum_{i}X_i$, allora $Y \\sim P(\\sum_{i}\\lambda_i)$. Da notare come nel caso in cui $\\forall i ~ \\lambda = \\lambda_i$, allora $Y \\sim P(n\\lambda)$.\n",
    "\n",
    "**Funzione di massa di probabilità**\n",
    "$$p_X(i) = e^{-\\lambda}\\frac{\\lambda^i}{i!} ~ I_\\mathbb{N}(i)$$\n",
    "\n",
    "**Funzione di ripartizione**\n",
    "$$-$$\n",
    "\n",
    "**Valore atteso**\n",
    "$$E[X] = \\lambda$$\n",
    "\n",
    "**Varianza**\n",
    "$$\\operatorname{Var}(X) = \\lambda$$"
   ]
  },
  {
   "cell_type": "code",
   "execution_count": 6,
   "id": "80358708",
   "metadata": {},
   "outputs": [
    {
     "data": {
      "application/vnd.jupyter.widget-view+json": {
       "model_id": "64115aa0f09f4ac38035579d23e6e01b",
       "version_major": 2,
       "version_minor": 0
      },
      "text/plain": [
       "interactive(children=(IntSlider(value=12, description='$\\\\lambda$', max=20), Output()), _dom_classes=('widget-…"
      ]
     },
     "metadata": {},
     "output_type": "display_data"
    }
   ],
   "source": [
    "_ = widgets.interact(plot_poisson, lambd=widgets.IntSlider(value=12, min=0, max=20, step=1, description='$\\lambda$'))"
   ]
  },
  {
   "cell_type": "markdown",
   "id": "11653e38",
   "metadata": {},
   "source": [
    "## Modello ipergeometrico\n",
    "\n",
    "$$X \\sim H(N+M, N, n)$$\n",
    "$$D_X = \\{0, \\dots, n\\}$$\n",
    "\n",
    "Questo modello descrive le situazioni che possono essere modellate come l'estrazione di $n$ oggetti da un'urna senza effettuare la reimmissione. In particolare l'urna è formata da $N$ oggetti funzionanti e $M$ oggetti difettosi.\n",
    "\n",
    "La variabile aleatoria $X$ assume come valore il numero di oggetti funzionanti estratti.\n",
    "\n",
    "Questo modello si differenzia dal binomiale per il fatto che non effettua la reimmissione, ma nel caso in cui la dimensione dell'urna è molto elevata, reimmettere gli oggetti non ha un grande impatto e quindi il binomiale ne rappresenta una buona approssimazione (guardare la varianza).\n",
    "\n",
    "**Funzione di massa di probabilità**\n",
    "$$p_X(i) = \\dfrac{\\binom{N}{i}\\binom{M}{n-i}}{\\binom{N+M}{n}}$$\n",
    "\n",
    "**Funzione di ripartizione**\n",
    "$$-$$\n",
    "\n",
    "**Valore atteso**\n",
    "$$E[X] = np$$\n",
    "\n",
    "**Varianza**\n",
    "$$\\operatorname{Var}(X) = np(1-p)\\left(1-\\frac{n-1}{N+M-1}\\right)$$\n",
    "\n",
    "Dove con $p$ si intende la probabilità del successo di una singola estrazione: $\\dfrac{N}{N+M}$.\n",
    "\n",
    "Da notare come per $N+M \\rightarrow +\\infty$ la varianza diventa quella del modello binomiale: $np(1-p)$."
   ]
  },
  {
   "cell_type": "code",
   "execution_count": 7,
   "id": "35a6843c",
   "metadata": {},
   "outputs": [
    {
     "data": {
      "application/vnd.jupyter.widget-view+json": {
       "model_id": "8ee814d0ef3f4657879dbb66e4ddd2cd",
       "version_major": 2,
       "version_minor": 0
      },
      "text/plain": [
       "interactive(children=(IntSlider(value=8, description='$N$', max=10), IntSlider(value=8, description='$M$', max…"
      ]
     },
     "metadata": {},
     "output_type": "display_data"
    }
   ],
   "source": [
    "N = widgets.IntSlider(value=8, min=0, max=10, description='$N$')\n",
    "M = widgets.IntSlider(value=8, min=0, max=10, description='$M$')\n",
    "n = widgets.IntSlider(value=6, min=0, max=8, description='$n$')\n",
    "def on_value_change(change): n.max = N.value\n",
    "N.observe(on_value_change, names='value')\n",
    "_ = widgets.interact(plot_hyper, N=N, M=M, n=n)"
   ]
  },
  {
   "cell_type": "markdown",
   "id": "af8abe06",
   "metadata": {},
   "source": [
    "## Modello uniforme continuo\n",
    "\n",
    "$$X \\sim U([a,b])$$\n",
    "$$D_X = [a,b]$$\n",
    "\n",
    "Estensione del modello discreto nel continuo.\n",
    "\n",
    "**Funzione di densità di probabilità**\n",
    "$$f_X(x) = \\dfrac{1}{b-a}I_{[a,b]}(x)$$\n",
    "\n",
    "**Calcolo della probabilità**\n",
    "$$P(x \\in I) = \\dfrac{|I|}{b-a}$$\n",
    "\n",
    "Da notare come dati due intervalli $I, J$ che hanno la stessa dimensione, $P(X\\in I)=P(X\\in J)$.\n",
    "\n",
    "**Funzione di ripartizione**\n",
    "$$F_X(x) = \\dfrac{x-a}{b-a}I_{[a,b]}(x)+I_{(b,+\\infty)}(x)$$\n",
    "\n",
    "**Valore atteso**\n",
    "$$E[X] = \\dfrac{b+a}{2}$$\n",
    "\n",
    "**Varianza**\n",
    "$$\\operatorname{Var}(X) = \\dfrac{(b-a)^2}{12}$$"
   ]
  },
  {
   "cell_type": "code",
   "execution_count": 8,
   "id": "c59da17f",
   "metadata": {
    "scrolled": false
   },
   "outputs": [
    {
     "data": {
      "application/vnd.jupyter.widget-view+json": {
       "model_id": "ea0e51cf6fd44ebb99affef20ab57ed0",
       "version_major": 2,
       "version_minor": 0
      },
      "text/plain": [
       "interactive(children=(FloatRangeSlider(value=(3.0, 7.0), description='$[a,b]$', max=10.0, step=0.5), FloatRang…"
      ]
     },
     "metadata": {},
     "output_type": "display_data"
    }
   ],
   "source": [
    "_ = widgets.interact(plot_unif_cont,\n",
    "                     ab=widgets.FloatRangeSlider(value=(3, 7), min=0, max=10, step=.5, description='$[a,b]$'),\n",
    "                     I=widgets.FloatRangeSlider(value=(4, 6), min=0, max=10, step=.5, description='$I$'))"
   ]
  },
  {
   "cell_type": "markdown",
   "id": "86be1cfe",
   "metadata": {},
   "source": [
    "## Modello esponenziale\n",
    "\n",
    "$$X \\sim E(\\lambda), ~ \\lambda \\in \\mathbb{R}^+$$\n",
    "$$D_X = \\mathbb{R}^+$$\n",
    "\n",
    "Questo modello viene utilizzato per rappresentare il tempo di attesa prima che si verifichi un certo evento casuale, e gode della proprietà di *assenza di memoria*.\n",
    "\n",
    "Esiste una forte relazione tra questo modello e quello di Poisson, infatti la relazione tra i loro parametri è la seguente: $\\lambda_P = L\\lambda_E$, dove $L$ è la dimensione dell'intervallo preso in considerazione e $\\lambda_P, \\lambda_E$ sono rispettivamente il parametro della distribuzione di Poisson e della esponenziale.\n",
    "\n",
    "**Funzione di densità di probabilità**\n",
    "$$f_X(x) = \\lambda e^{-\\lambda x} I_{\\mathbb{R}^+}(x)$$\n",
    "\n",
    "**Funzione di ripartizione**\n",
    "$$F_X(x) = 1-e^{-\\lambda x}$$\n",
    "\n",
    "**Valore atteso**\n",
    "$$E[X] = \\frac{1}{\\lambda}$$\n",
    "\n",
    "**Varianza**\n",
    "$$\\operatorname{Var}(X) = \\frac{1}{\\lambda^2}$$"
   ]
  },
  {
   "cell_type": "code",
   "execution_count": 9,
   "id": "7f2e3bf8",
   "metadata": {},
   "outputs": [
    {
     "data": {
      "application/vnd.jupyter.widget-view+json": {
       "model_id": "ffae1b7c61014df09c4388af00549433",
       "version_major": 2,
       "version_minor": 0
      },
      "text/plain": [
       "interactive(children=(FloatSlider(value=1.5, description='$\\\\lambda$', max=2.0, min=0.1, step=0.05), Output())…"
      ]
     },
     "metadata": {},
     "output_type": "display_data"
    }
   ],
   "source": [
    "_ = widgets.interact(plot_exp, lambd=widgets.FloatSlider(value=1.5, min=.1, max=2, step=.05, description='$\\lambda$'))"
   ]
  },
  {
   "cell_type": "markdown",
   "id": "a9338a4c",
   "metadata": {},
   "source": [
    "## Modello gaussiano\n",
    "\n",
    "$$X\\sim N(\\mu,\\sigma), ~ \\mu \\in \\mathbb{R}, \\sigma \\in \\mathbb{R}^+$$\n",
    "$$D_X = \\mathbb{R}$$\n",
    "\n",
    "Questo modello gode di alcune proprietà:\n",
    "- *linearità*: se $Y=aX+b$ con $X\\sim N(\\mu,\\sigma)$, allora $Y\\sim N(a\\mu+b,a\\sigma)$,\n",
    "- *riproducibilità*: sommando $n$ variabili aleatorie indipendenti dello stesso modello se ne ottiene un'altra di quel modello. Quindi date $X_1, \\dots, X_n$ indipendenti con $X_i \\sim N(\\mu_i,\\sigma_i)$ e $Y = \\sum_iX_i$, allora $Y\\sim N(\\sum_i\\mu_i,\\sqrt{\\sum_i\\sigma_i^2})$,\n",
    "- *media e mediana*: la media e la mediana di una variabile gaussiana coincidono.\n",
    "\n",
    "### Modello Normale Standard\n",
    "\n",
    "Quando una variabile gaussiana viene standardizzata, quindi viene posto $\\mu=0$ e $\\sigma=1$, prende il nome di *Normale Standard*. Più formalmente, $Z := \\dfrac{X-\\mu}{\\sigma} \\sim G(0,1)$.\n",
    "\n",
    "In questo caso le funzioni di densità e di ripartizione si indicano rispettivamente con $\\phi(z)$ e $\\Phi(z)$, e data la simmetria della funzione di ripartizione $\\Phi(-x) = 1-\\Phi(x)$.\n",
    "\n",
    "**Funzione di densità di probabilità**\n",
    "$$f_X(x) = \\dfrac{1}{\\sqrt{2\\pi}~\\sigma}e^{-\\dfrac{(x-\\mu)^2}{2\\sigma^2}}$$\n",
    "\n",
    "**Funzione di ripartizione**\n",
    "$$F_X(x) = \\int_{-\\infty}^x \\dfrac{1}{\\sqrt{2\\pi}~\\sigma} e^{-\\frac{1}{2}\\left(\\dfrac{y-\\mu}{\\sigma}\\right)^2} dy$$\n",
    "\n",
    "**Valore atteso**\n",
    "$$E[X] = \\mu$$\n",
    "\n",
    "**Varianza**\n",
    "$$\\operatorname{Var}(X) = \\sigma^2$$"
   ]
  },
  {
   "cell_type": "code",
   "execution_count": 10,
   "id": "d70ca869",
   "metadata": {},
   "outputs": [
    {
     "data": {
      "application/vnd.jupyter.widget-view+json": {
       "model_id": "e12142cd85314013a6851d8bf048ecf6",
       "version_major": 2,
       "version_minor": 0
      },
      "text/plain": [
       "interactive(children=(FloatSlider(value=0.0, description='$\\\\mu$', max=15.0, min=-15.0, step=0.5), FloatSlider…"
      ]
     },
     "metadata": {},
     "output_type": "display_data"
    }
   ],
   "source": [
    "_ = widgets.interact(plot_gauss,\n",
    "                     mu=widgets.FloatSlider(value=0, min=-15, max=15, step=.5, description='$\\mu$'),\n",
    "                     sigma=widgets.FloatSlider(value=1, min=.2, max=5, step=.1, description='$\\sigma$'))"
   ]
  }
 ],
 "metadata": {
  "interpreter": {
   "hash": "e7370f93d1d0cde622a1f8e1c04877d8463912d04d973331ad4851f04de6915a"
  },
  "kernelspec": {
   "display_name": "Python 3 (ipykernel)",
   "language": "python",
   "name": "python3"
  },
  "language_info": {
   "codemirror_mode": {
    "name": "ipython",
    "version": 3
   },
   "file_extension": ".py",
   "mimetype": "text/x-python",
   "name": "python",
   "nbconvert_exporter": "python",
   "pygments_lexer": "ipython3",
   "version": "3.10.5"
  }
 },
 "nbformat": 4,
 "nbformat_minor": 5
}
